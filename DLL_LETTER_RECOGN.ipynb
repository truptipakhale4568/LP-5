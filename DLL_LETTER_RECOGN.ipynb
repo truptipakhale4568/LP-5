{
 "cells": [
  {
   "cell_type": "code",
   "execution_count": 22,
   "id": "0bf01ad1-19cc-4239-9c53-4baeded1aead",
   "metadata": {},
   "outputs": [],
   "source": [
    "# Step 1: Import Libraries\n",
    "import zipfile\n",
    "import os\n",
    "import pandas as pd\n",
    "import numpy as np\n",
    "import tensorflow as tf\n",
    "import matplotlib.pyplot as plt\n",
    "from sklearn.model_selection import train_test_split\n",
    "from sklearn.preprocessing import LabelEncoder, StandardScaler\n"
   ]
  },
  {
   "cell_type": "code",
   "execution_count": 24,
   "id": "41326353-d711-444f-8d0c-ad203a6cef40",
   "metadata": {},
   "outputs": [],
   "source": [
    "# Step 2: Extract ZIP\n",
    "zip_path = 'letter+recognition.zip'\n",
    "extract_to = './letter_data'\n",
    "with zipfile.ZipFile(zip_path, 'r') as zip_ref:\n",
    "    zip_ref.extractall(extract_to)\n"
   ]
  },
  {
   "cell_type": "code",
   "execution_count": 26,
   "id": "746c1811-7a55-4942-8e66-554412a4f295",
   "metadata": {},
   "outputs": [],
   "source": [
    "# Step 3: Load Dataset\n",
    "data_path = os.path.join(extract_to, 'letter-recognition.data')\n",
    "column_names = ['letter', 'x-box', 'y-box', 'width', 'high', 'onpix', 'x-bar',\n",
    "                'y-bar', 'x2bar', 'y2bar', 'xybar', 'x2ybr', 'xy2br', 'x-ege',\n",
    "                'xegvy', 'y-ege', 'yegvx']\n"
   ]
  },
  {
   "cell_type": "code",
   "execution_count": 28,
   "id": "ff178b24-96d8-40e0-81e2-d577e15ea875",
   "metadata": {},
   "outputs": [],
   "source": [
    "df = pd.read_csv(data_path, names=column_names)\n"
   ]
  },
  {
   "cell_type": "code",
   "execution_count": 30,
   "id": "0e3808a0-ed25-4772-88e7-5a3307a201ee",
   "metadata": {},
   "outputs": [],
   "source": [
    "# Encode labels\n",
    "label_encoder = LabelEncoder()\n",
    "df['letter'] = label_encoder.fit_transform(df['letter'])  # A=0, ..., Z=25\n",
    "\n",
    "# Split features and labels\n",
    "X = df.drop('letter', axis=1).values.astype(np.float32)\n",
    "y = df['letter'].values.astype(np.int32)"
   ]
  },
  {
   "cell_type": "code",
   "execution_count": 32,
   "id": "40f41c1c-b672-4e35-bd60-74e8151e9aa5",
   "metadata": {},
   "outputs": [
    {
     "name": "stderr",
     "output_type": "stream",
     "text": [
      "2025-05-02 11:58:52.544980: E external/local_xla/xla/stream_executor/cuda/cuda_platform.cc:51] failed call to cuInit: INTERNAL: CUDA error: Failed call to cuInit: CUDA_ERROR_NO_DEVICE: no CUDA-capable device is detected\n"
     ]
    }
   ],
   "source": [
    "# Normalize features\n",
    "scaler = StandardScaler()\n",
    "X = scaler.fit_transform(X)\n",
    "\n",
    "# Train-test split\n",
    "X_train, X_test, y_train, y_test = train_test_split(X, y, test_size=0.2, random_state=42)\n",
    "\n",
    "# Convert labels to one-hot\n",
    "y_train_oh = tf.one_hot(y_train, depth=26)\n",
    "y_test_oh = tf.one_hot(y_test, depth=26)\n"
   ]
  },
  {
   "cell_type": "code",
   "execution_count": 34,
   "id": "7ccd9149-d616-4c17-b7a3-1811d0908173",
   "metadata": {},
   "outputs": [],
   "source": [
    "# Step 4: Build Model from Scratch (No Keras)\n",
    "class DNNModel(tf.Module):\n",
    "    def __init__(self):\n",
    "        super().__init__()\n",
    "        self.W1 = tf.Variable(tf.random.normal([16, 128], stddev=0.1), name='W1')\n",
    "        self.b1 = tf.Variable(tf.zeros([128]), name='b1')\n",
    "        self.W2 = tf.Variable(tf.random.normal([128, 64], stddev=0.1), name='W2')\n",
    "        self.b2 = tf.Variable(tf.zeros([64]), name='b2')\n",
    "        self.W3 = tf.Variable(tf.random.normal([64, 26], stddev=0.1), name='W3')\n",
    "        self.b3 = tf.Variable(tf.zeros([26]), name='b3')\n",
    "\n",
    "    def __call__(self, x):\n",
    "        x = tf.nn.relu(tf.matmul(x, self.W1) + self.b1)\n",
    "        x = tf.nn.relu(tf.matmul(x, self.W2) + self.b2)\n",
    "        logits = tf.matmul(x, self.W3) + self.b3\n",
    "        return logits\n",
    "\n",
    "model = DNNModel()"
   ]
  },
  {
   "cell_type": "code",
   "execution_count": 36,
   "id": "2d972297-6cf3-40ab-b206-be537a35a3f9",
   "metadata": {},
   "outputs": [],
   "source": [
    "# Step 5: Training Setup\n",
    "learning_rate = 0.001\n",
    "optimizer = tf.optimizers.Adam(learning_rate)\n",
    "loss_fn = tf.losses.CategoricalCrossentropy(from_logits=True)\n"
   ]
  },
  {
   "cell_type": "code",
   "execution_count": 38,
   "id": "1b2d48e7-e0e2-49d7-ab1f-fcec8542ab23",
   "metadata": {},
   "outputs": [],
   "source": [
    "# Accuracy metric\n",
    "def compute_accuracy(logits, labels):\n",
    "    preds = tf.argmax(logits, axis=1)\n",
    "    true = tf.argmax(labels, axis=1)\n",
    "    return tf.reduce_mean(tf.cast(tf.equal(preds, true), tf.float32))"
   ]
  },
  {
   "cell_type": "code",
   "execution_count": 42,
   "id": "997a67be-7524-4586-9cb9-d1bb9570219b",
   "metadata": {},
   "outputs": [
    {
     "name": "stdout",
     "output_type": "stream",
     "text": [
      "Epoch 1/30 - Loss: 1.7468 - Accuracy: 0.5445\n",
      "Epoch 2/30 - Loss: 0.8170 - Accuracy: 0.7632\n",
      "Epoch 3/30 - Loss: 0.6298 - Accuracy: 0.8154\n",
      "Epoch 4/30 - Loss: 0.5194 - Accuracy: 0.8472\n",
      "Epoch 5/30 - Loss: 0.4434 - Accuracy: 0.8696\n",
      "Epoch 6/30 - Loss: 0.3870 - Accuracy: 0.8879\n",
      "Epoch 7/30 - Loss: 0.3434 - Accuracy: 0.9021\n",
      "Epoch 8/30 - Loss: 0.3085 - Accuracy: 0.9107\n",
      "Epoch 9/30 - Loss: 0.2800 - Accuracy: 0.9189\n",
      "Epoch 10/30 - Loss: 0.2566 - Accuracy: 0.9244\n",
      "Epoch 11/30 - Loss: 0.2368 - Accuracy: 0.9297\n",
      "Epoch 12/30 - Loss: 0.2197 - Accuracy: 0.9339\n",
      "Epoch 13/30 - Loss: 0.2045 - Accuracy: 0.9381\n",
      "Epoch 14/30 - Loss: 0.1910 - Accuracy: 0.9424\n",
      "Epoch 15/30 - Loss: 0.1790 - Accuracy: 0.9465\n",
      "Epoch 16/30 - Loss: 0.1681 - Accuracy: 0.9500\n",
      "Epoch 17/30 - Loss: 0.1581 - Accuracy: 0.9527\n",
      "Epoch 18/30 - Loss: 0.1491 - Accuracy: 0.9555\n",
      "Epoch 19/30 - Loss: 0.1408 - Accuracy: 0.9576\n",
      "Epoch 20/30 - Loss: 0.1330 - Accuracy: 0.9594\n",
      "Epoch 21/30 - Loss: 0.1260 - Accuracy: 0.9617\n",
      "Epoch 22/30 - Loss: 0.1194 - Accuracy: 0.9636\n",
      "Epoch 23/30 - Loss: 0.1132 - Accuracy: 0.9655\n",
      "Epoch 24/30 - Loss: 0.1075 - Accuracy: 0.9671\n",
      "Epoch 25/30 - Loss: 0.1022 - Accuracy: 0.9690\n",
      "Epoch 26/30 - Loss: 0.0972 - Accuracy: 0.9702\n",
      "Epoch 27/30 - Loss: 0.0925 - Accuracy: 0.9717\n",
      "Epoch 28/30 - Loss: 0.0882 - Accuracy: 0.9730\n",
      "Epoch 29/30 - Loss: 0.0842 - Accuracy: 0.9743\n",
      "Epoch 30/30 - Loss: 0.0801 - Accuracy: 0.9754\n"
     ]
    }
   ],
   "source": [
    "# Step 6: Train Model (Corrected)\n",
    "epochs = 30\n",
    "batch_size = 64\n",
    "train_size = X_train.shape[0]\n",
    "steps_per_epoch = train_size // batch_size\n",
    "train_losses, train_accuracies = [], []\n",
    "\n",
    "for epoch in range(epochs):\n",
    "    epoch_loss = 0.0\n",
    "    epoch_acc = 0.0\n",
    "    for i in range(0, train_size, batch_size):\n",
    "        X_batch = X_train[i:i+batch_size]\n",
    "        y_batch = y_train_oh[i:i+batch_size]\n",
    "\n",
    "        with tf.GradientTape() as tape:\n",
    "            logits = model(X_batch)\n",
    "            loss = loss_fn(y_batch, logits)\n",
    "        grads = tape.gradient(loss, model.trainable_variables)\n",
    "        optimizer.apply_gradients(zip(grads, model.trainable_variables))\n",
    "\n",
    "        acc = compute_accuracy(logits, y_batch)\n",
    "        epoch_loss += loss.numpy()\n",
    "        epoch_acc += acc.numpy()\n",
    "\n",
    "    avg_loss = epoch_loss / steps_per_epoch\n",
    "    avg_acc = epoch_acc / steps_per_epoch\n",
    "    train_losses.append(avg_loss)\n",
    "    train_accuracies.append(avg_acc)\n",
    "    print(f\"Epoch {epoch+1}/{epochs} - Loss: {avg_loss:.4f} - Accuracy: {avg_acc:.4f}\")\n"
   ]
  },
  {
   "cell_type": "code",
   "execution_count": 44,
   "id": "7fed8d74-5a61-4802-81d3-59b288ffd50e",
   "metadata": {},
   "outputs": [
    {
     "name": "stdout",
     "output_type": "stream",
     "text": [
      "\n",
      "Test Accuracy: 0.9515\n"
     ]
    }
   ],
   "source": [
    "# Step 7: Evaluate on Test Set\n",
    "logits_test = model(X_test)\n",
    "test_acc = compute_accuracy(logits_test, y_test_oh)\n",
    "print(f\"\\nTest Accuracy: {test_acc.numpy():.4f}\")"
   ]
  },
  {
   "cell_type": "code",
   "execution_count": 46,
   "id": "ebfbbdc6-f6a8-47ce-9174-a18c6def998b",
   "metadata": {},
   "outputs": [
    {
     "data": {
      "image/png": "[encoded data removed]",
      "text/plain": [
       "<Figure size 640x480 with 1 Axes>"
      ]
     },
     "metadata": {},
     "output_type": "display_data"
    }
   ],
   "source": [
    "# Step 8: Plot Accuracy Curve\n",
    "plt.plot(range(1, epochs+1), train_accuracies, label='Train Accuracy')\n",
    "plt.xlabel(\"Epochs\")\n",
    "plt.ylabel(\"Accuracy\")\n",
    "plt.title(\"Training Accuracy Over Epochs\")\n",
    "plt.grid(True)\n",
    "plt.legend()\n",
    "plt.show()"
   ]
  },
  {
   "cell_type": "code",
   "execution_count": 48,
   "id": "b4216e61-c22b-4816-a2b1-509db96b7723",
   "metadata": {},
   "outputs": [
    {
     "name": "stdout",
     "output_type": "stream",
     "text": [
      "\n",
      "Sample Predictions:\n",
      "Predicted: Z, Actual: T\n",
      "Predicted: L, Actual: L\n",
      "Predicted: A, Actual: A\n",
      "Predicted: E, Actual: E\n",
      "Predicted: Q, Actual: Q\n"
     ]
    }
   ],
   "source": [
    "# Step 9: Sample Predictions\n",
    "sample_logits = model(X_test[:5])\n",
    "sample_preds = tf.argmax(sample_logits, axis=1).numpy()\n",
    "sample_true = y_test[:5]\n",
    "\n",
    "print(\"\\nSample Predictions:\")\n",
    "for i in range(5):\n",
    "    pred_char = label_encoder.inverse_transform([sample_preds[i]])[0]\n",
    "    true_char = label_encoder.inverse_transform([sample_true[i]])[0]\n",
    "    print(f\"Predicted: {pred_char}, Actual: {true_char}\")"
   ]
  },
  {
   "cell_type": "code",
   "execution_count": null,
   "id": "be5d637f-9f54-4848-8cfa-0d6375587a2f",
   "metadata": {},
   "outputs": [],
   "source": []
  }
 ],
 "metadata": {
  "kernelspec": {
   "display_name": "Python 3 (ipykernel)",
   "language": "python",
   "name": "python3"
  },
  "language_info": {
   "codemirror_mode": {
    "name": "ipython",
    "version": 3
   },
   "file_extension": ".py",
   "mimetype": "text/x-python",
   "name": "python",
   "nbconvert_exporter": "python",
   "pygments_lexer": "ipython3",
   "version": "3.12.4"
  }
 },
 "nbformat": 4,
 "nbformat_minor": 5
}
