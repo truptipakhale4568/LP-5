{
 "cells": [
  {
   "cell_type": "code",
   "execution_count": 1,
   "id": "8c0e48a1-b0c8-4365-9a9f-60970081dc2e",
   "metadata": {},
   "outputs": [],
   "source": [
    "import numpy as np\n",
    "import pandas as pd\n",
    "import matplotlib.pyplot as plt\n",
    "from sklearn.preprocessing import OneHotEncoder\n",
    "from sklearn.metrics import accuracy_score\n"
   ]
  },
  {
   "cell_type": "code",
   "execution_count": 3,
   "id": "57501c10-0fe9-4d4e-83cb-92ee8b30700c",
   "metadata": {},
   "outputs": [],
   "source": [
    "#Step 1: Load the data\n",
    "train_df = pd.read_csv(\"fashion-mnist_train.csv\")\n",
    "test_df = pd.read_csv(\"fashion-mnist_test.csv\")\n",
    "\n",
    "X_train = train_df.iloc[:, 1:].values / 255.0  # Normalize pixel values\n",
    "y_train = train_df.iloc[:, 0].values.reshape(-1, 1)\n",
    "\n",
    "X_test = test_df.iloc[:, 1:].values / 255.0\n",
    "y_test = test_df.iloc[:, 0].values.reshape(-1, 1)"
   ]
  },
  {
   "cell_type": "code",
   "execution_count": 5,
   "id": "68022482-b8c9-4c66-a1d0-662e0579c3f9",
   "metadata": {},
   "outputs": [],
   "source": [
    "# Step 2: One-hot encode the labels\n",
    "encoder = OneHotEncoder(sparse_output=False, categories='auto')\n",
    "y_train_oh = encoder.fit_transform(y_train)\n",
    "y_test_oh = encoder.transform(y_test)\n"
   ]
  },
  {
   "cell_type": "code",
   "execution_count": 7,
   "id": "78734720-1847-4ce1-85b0-de49346e3b13",
   "metadata": {},
   "outputs": [],
   "source": [
    "# Step 3: Initialize weights for a simple neural network\n",
    "input_size = 784\n",
    "hidden_size = 128\n",
    "output_size = 10\n",
    "\n",
    "W1 = np.random.randn(input_size, hidden_size) * 0.01\n",
    "b1 = np.zeros((1, hidden_size))\n",
    "W2 = np.random.randn(hidden_size, output_size) * 0.01\n",
    "b2 = np.zeros((1, output_size))\n",
    "\n",
    "def relu(Z):\n",
    "    return np.maximum(0, Z)\n",
    "\n",
    "def relu_derivative(Z):\n",
    "    return (Z > 0).astype(float)\n",
    "\n",
    "def softmax(Z):\n",
    "    expZ = np.exp(Z - np.max(Z, axis=1, keepdims=True))\n",
    "    return expZ / np.sum(expZ, axis=1, keepdims=True)\n",
    "\n",
    "def compute_loss(y_true, y_pred):\n",
    "    epsilon = 1e-10\n",
    "    return -np.mean(np.sum(y_true * np.log(y_pred + epsilon), axis=1))\n"
   ]
  },
  {
   "cell_type": "code",
   "execution_count": 9,
   "id": "1a7eef55-26ef-4294-9cdf-b436d93179f7",
   "metadata": {},
   "outputs": [
    {
     "name": "stdout",
     "output_type": "stream",
     "text": [
      "Epoch 1/100 - Loss: 2.3018\n",
      "Epoch 2/100 - Loss: 2.2986\n",
      "Epoch 3/100 - Loss: 2.2954\n",
      "Epoch 4/100 - Loss: 2.2919\n",
      "Epoch 5/100 - Loss: 2.2882\n",
      "Epoch 6/100 - Loss: 2.2842\n",
      "Epoch 7/100 - Loss: 2.2796\n",
      "Epoch 8/100 - Loss: 2.2745\n",
      "Epoch 9/100 - Loss: 2.2687\n",
      "Epoch 10/100 - Loss: 2.2620\n",
      "Epoch 11/100 - Loss: 2.2545\n",
      "Epoch 12/100 - Loss: 2.2459\n",
      "Epoch 13/100 - Loss: 2.2362\n",
      "Epoch 14/100 - Loss: 2.2253\n",
      "Epoch 15/100 - Loss: 2.2130\n",
      "Epoch 16/100 - Loss: 2.1993\n",
      "Epoch 17/100 - Loss: 2.1841\n",
      "Epoch 18/100 - Loss: 2.1674\n",
      "Epoch 19/100 - Loss: 2.1491\n",
      "Epoch 20/100 - Loss: 2.1292\n",
      "Epoch 21/100 - Loss: 2.1076\n",
      "Epoch 22/100 - Loss: 2.0843\n",
      "Epoch 23/100 - Loss: 2.0593\n",
      "Epoch 24/100 - Loss: 2.0325\n",
      "Epoch 25/100 - Loss: 2.0041\n",
      "Epoch 26/100 - Loss: 1.9742\n",
      "Epoch 27/100 - Loss: 1.9429\n",
      "Epoch 28/100 - Loss: 1.9106\n",
      "Epoch 29/100 - Loss: 1.8775\n",
      "Epoch 30/100 - Loss: 1.8440\n",
      "Epoch 31/100 - Loss: 1.8105\n",
      "Epoch 32/100 - Loss: 1.7773\n",
      "Epoch 33/100 - Loss: 1.7447\n",
      "Epoch 34/100 - Loss: 1.7128\n",
      "Epoch 35/100 - Loss: 1.6819\n",
      "Epoch 36/100 - Loss: 1.6519\n",
      "Epoch 37/100 - Loss: 1.6230\n",
      "Epoch 38/100 - Loss: 1.5952\n",
      "Epoch 39/100 - Loss: 1.5684\n",
      "Epoch 40/100 - Loss: 1.5427\n",
      "Epoch 41/100 - Loss: 1.5179\n",
      "Epoch 42/100 - Loss: 1.4942\n",
      "Epoch 43/100 - Loss: 1.4713\n",
      "Epoch 44/100 - Loss: 1.4494\n",
      "Epoch 45/100 - Loss: 1.4282\n",
      "Epoch 46/100 - Loss: 1.4079\n",
      "Epoch 47/100 - Loss: 1.3883\n",
      "Epoch 48/100 - Loss: 1.3694\n",
      "Epoch 49/100 - Loss: 1.3512\n",
      "Epoch 50/100 - Loss: 1.3337\n",
      "Epoch 51/100 - Loss: 1.3167\n",
      "Epoch 52/100 - Loss: 1.3003\n",
      "Epoch 53/100 - Loss: 1.2844\n",
      "Epoch 54/100 - Loss: 1.2691\n",
      "Epoch 55/100 - Loss: 1.2542\n",
      "Epoch 56/100 - Loss: 1.2398\n",
      "Epoch 57/100 - Loss: 1.2259\n",
      "Epoch 58/100 - Loss: 1.2124\n",
      "Epoch 59/100 - Loss: 1.1994\n",
      "Epoch 60/100 - Loss: 1.1867\n",
      "Epoch 61/100 - Loss: 1.1745\n",
      "Epoch 62/100 - Loss: 1.1626\n",
      "Epoch 63/100 - Loss: 1.1511\n",
      "Epoch 64/100 - Loss: 1.1399\n",
      "Epoch 65/100 - Loss: 1.1292\n",
      "Epoch 66/100 - Loss: 1.1187\n",
      "Epoch 67/100 - Loss: 1.1086\n",
      "Epoch 68/100 - Loss: 1.0987\n",
      "Epoch 69/100 - Loss: 1.0892\n",
      "Epoch 70/100 - Loss: 1.0800\n",
      "Epoch 71/100 - Loss: 1.0710\n",
      "Epoch 72/100 - Loss: 1.0624\n",
      "Epoch 73/100 - Loss: 1.0540\n",
      "Epoch 74/100 - Loss: 1.0458\n",
      "Epoch 75/100 - Loss: 1.0379\n",
      "Epoch 76/100 - Loss: 1.0302\n",
      "Epoch 77/100 - Loss: 1.0227\n",
      "Epoch 78/100 - Loss: 1.0155\n",
      "Epoch 79/100 - Loss: 1.0084\n",
      "Epoch 80/100 - Loss: 1.0016\n",
      "Epoch 81/100 - Loss: 0.9949\n",
      "Epoch 82/100 - Loss: 0.9885\n",
      "Epoch 83/100 - Loss: 0.9822\n",
      "Epoch 84/100 - Loss: 0.9761\n",
      "Epoch 85/100 - Loss: 0.9701\n",
      "Epoch 86/100 - Loss: 0.9643\n",
      "Epoch 87/100 - Loss: 0.9587\n",
      "Epoch 88/100 - Loss: 0.9532\n",
      "Epoch 89/100 - Loss: 0.9479\n",
      "Epoch 90/100 - Loss: 0.9426\n",
      "Epoch 91/100 - Loss: 0.9376\n",
      "Epoch 92/100 - Loss: 0.9326\n",
      "Epoch 93/100 - Loss: 0.9278\n",
      "Epoch 94/100 - Loss: 0.9231\n",
      "Epoch 95/100 - Loss: 0.9185\n",
      "Epoch 96/100 - Loss: 0.9140\n",
      "Epoch 97/100 - Loss: 0.9097\n",
      "Epoch 98/100 - Loss: 0.9054\n",
      "Epoch 99/100 - Loss: 0.9012\n",
      "Epoch 100/100 - Loss: 0.8972\n"
     ]
    }
   ],
   "source": [
    "# Step 4: Train the model\n",
    "epochs = 100\n",
    "learning_rate = 0.1\n",
    "losses = []\n",
    "\n",
    "for epoch in range(epochs):\n",
    "    # Forward pass\n",
    "    Z1 = np.dot(X_train, W1) + b1\n",
    "    A1 = relu(Z1)\n",
    "    Z2 = np.dot(A1, W2) + b2\n",
    "    A2 = softmax(Z2)\n",
    "\n",
    "    # Loss\n",
    "    loss = compute_loss(y_train_oh, A2)\n",
    "    losses.append(loss)\n",
    "\n",
    "    # Backward pass\n",
    "    dZ2 = A2 - y_train_oh\n",
    "    dW2 = np.dot(A1.T, dZ2) / X_train.shape[0]\n",
    "    db2 = np.sum(dZ2, axis=0, keepdims=True) / X_train.shape[0]\n",
    "\n",
    "    dA1 = np.dot(dZ2, W2.T)\n",
    "    dZ1 = dA1 * relu_derivative(Z1)\n",
    "    dW1 = np.dot(X_train.T, dZ1) / X_train.shape[0]\n",
    "    db1 = np.sum(dZ1, axis=0, keepdims=True) / X_train.shape[0]\n",
    "\n",
    "    # Update weights\n",
    "    W1 -= learning_rate * dW1\n",
    "    b1 -= learning_rate * db1\n",
    "    W2 -= learning_rate * dW2\n",
    "    b2 -= learning_rate * db2\n",
    "\n",
    "    print(f\"Epoch {epoch+1}/{epochs} - Loss: {loss:.4f}\")\n"
   ]
  },
  {
   "cell_type": "code",
   "execution_count": 11,
   "id": "2028d17d-6402-4627-ad24-77c5ea8ff8b0",
   "metadata": {},
   "outputs": [
    {
     "name": "stdout",
     "output_type": "stream",
     "text": [
      "\n",
      "Test Accuracy: 0.6646\n"
     ]
    }
   ],
   "source": [
    "# Step 5: Evaluate on test data\n",
    "Z1_test = np.dot(X_test, W1) + b1\n",
    "A1_test = relu(Z1_test)\n",
    "Z2_test = np.dot(A1_test, W2) + b2\n",
    "A2_test = softmax(Z2_test)\n",
    "\n",
    "y_pred_test = np.argmax(A2_test, axis=1)\n",
    "y_true_test = y_test.flatten()\n",
    "\n",
    "acc = accuracy_score(y_true_test, y_pred_test)\n",
    "print(f\"\\nTest Accuracy: {acc:.4f}\")\n"
   ]
  },
  {
   "cell_type": "code",
   "execution_count": 13,
   "id": "c77d8757-8099-4dc2-946a-33d5bedc273e",
   "metadata": {},
   "outputs": [
    {
     "data": {
      "image/png": "[encoded data removed]",
      "text/plain": [
       "<Figure size 640x480 with 1 Axes>"
      ]
     },
     "metadata": {},
     "output_type": "display_data"
    },
    {
     "data": {
      "image/png": "[encoded data removed]",
      "text/plain": [
       "<Figure size 640x480 with 1 Axes>"
      ]
     },
     "metadata": {},
     "output_type": "display_data"
    },
    {
     "data": {
      "image/png": "[encoded data removed]",
      "text/plain": [
       "<Figure size 640x480 with 1 Axes>"
      ]
     },
     "metadata": {},
     "output_type": "display_data"
    },
    {
     "data": {
      "image/png": "[encoded data removed]",
      "text/plain": [
       "<Figure size 640x480 with 1 Axes>"
      ]
     },
     "metadata": {},
     "output_type": "display_data"
    },
    {
     "data": {
      "image/png": "[encoded data removed]",
      "text/plain": [
       "<Figure size 640x480 with 1 Axes>"
      ]
     },
     "metadata": {},
     "output_type": "display_data"
    }
   ],
   "source": [
    "# Step 6: Visualize sample predictions\n",
    "label_names = ['T-shirt/top', 'Trouser', 'Pullover', 'Dress', 'Coat',\n",
    "               'Sandal', 'Shirt', 'Sneaker', 'Bag', 'Ankle boot']\n",
    "\n",
    "for i in range(5):\n",
    "    img = X_test[i].reshape(28, 28)\n",
    "    plt.imshow(img, cmap='gray')\n",
    "    plt.title(f\"Predicted: {label_names[y_pred_test[i]]} | Actual: {label_names[y_true_test[i]]}\")\n",
    "    plt.axis('off')\n",
    "    plt.show()"
   ]
  },
  {
   "cell_type": "code",
   "execution_count": null,
   "id": "12a67671-7001-47ad-ac7d-c0947434709d",
   "metadata": {},
   "outputs": [],
   "source": []
  }
 ],
 "metadata": {
  "kernelspec": {
   "display_name": "Python 3 (ipykernel)",
   "language": "python",
   "name": "python3"
  },
  "language_info": {
   "codemirror_mode": {
    "name": "ipython",
    "version": 3
   },
   "file_extension": ".py",
   "mimetype": "text/x-python",
   "name": "python",
   "nbconvert_exporter": "python",
   "pygments_lexer": "ipython3",
   "version": "3.12.4"
  }
 },
 "nbformat": 4,
 "nbformat_minor": 5
}
